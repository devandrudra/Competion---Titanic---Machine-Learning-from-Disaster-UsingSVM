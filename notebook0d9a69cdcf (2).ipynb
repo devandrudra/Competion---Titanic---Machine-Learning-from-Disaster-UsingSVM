{
 "cells": [
  {
   "cell_type": "code",
   "execution_count": 1,
   "id": "78fb9099",
   "metadata": {
    "_cell_guid": "b1076dfc-b9ad-4769-8c92-a6c4dae69d19",
    "_uuid": "8f2839f25d086af736a60e9eeb907d3b93b6e0e5",
    "execution": {
     "iopub.execute_input": "2025-08-27T05:10:27.081393Z",
     "iopub.status.busy": "2025-08-27T05:10:27.081088Z",
     "iopub.status.idle": "2025-08-27T05:10:29.236254Z",
     "shell.execute_reply": "2025-08-27T05:10:29.235208Z"
    },
    "papermill": {
     "duration": 2.165106,
     "end_time": "2025-08-27T05:10:29.237773",
     "exception": false,
     "start_time": "2025-08-27T05:10:27.072667",
     "status": "completed"
    },
    "tags": []
   },
   "outputs": [
    {
     "name": "stdout",
     "output_type": "stream",
     "text": [
      "/kaggle/input/titanic/train.csv\n",
      "/kaggle/input/titanic/test.csv\n",
      "/kaggle/input/titanic/gender_submission.csv\n",
      "/kaggle/input/test-file/tested.csv\n",
      "/kaggle/input/titanic-machine-learning-from-disaster/train.csv\n",
      "/kaggle/input/titanic-machine-learning-from-disaster/test.csv\n"
     ]
    }
   ],
   "source": [
    "# This Python 3 environment comes with many helpful analytics libraries installed\n",
    "# It is defined by the kaggle/python Docker image: https://github.com/kaggle/docker-python\n",
    "# For example, here's several helpful packages to load\n",
    "\n",
    "import numpy as np # linear algebra\n",
    "import pandas as pd # data processing, CSV file I/O (e.g. pd.read_csv)\n",
    "\n",
    "\n",
    "# Input data files are available in the read-only \"../input/\" directory\n",
    "# For example, running this (by clicking run or pressing Shift+Enter) will list all files under the input directory\n",
    "\n",
    "import os\n",
    "for dirname, _, filenames in os.walk('/kaggle/input'):\n",
    "    for filename in filenames:\n",
    "        print(os.path.join(dirname, filename))\n",
    "\n",
    "# You can write up to 20GB to the current directory (/kaggle/working/) that gets preserved as output when you create a version using \"Save & Run All\" \n",
    "# You can also write temporary files to /kaggle/temp/, but they won't be saved outside of the current session"
   ]
  },
  {
   "cell_type": "code",
   "execution_count": 2,
   "id": "776c1504",
   "metadata": {
    "execution": {
     "iopub.execute_input": "2025-08-27T05:10:29.252184Z",
     "iopub.status.busy": "2025-08-27T05:10:29.251741Z",
     "iopub.status.idle": "2025-08-27T05:10:29.381064Z",
     "shell.execute_reply": "2025-08-27T05:10:29.379682Z"
    },
    "papermill": {
     "duration": 0.138514,
     "end_time": "2025-08-27T05:10:29.383013",
     "exception": false,
     "start_time": "2025-08-27T05:10:29.244499",
     "status": "completed"
    },
    "tags": []
   },
   "outputs": [
    {
     "name": "stdout",
     "output_type": "stream",
     "text": [
      "/kaggle/input/titanic\r\n"
     ]
    }
   ],
   "source": [
    "# !ls ../input/titanic/\n",
    "!find /kaggle -name \"titanic\""
   ]
  },
  {
   "cell_type": "code",
   "execution_count": 3,
   "id": "6df6794d",
   "metadata": {
    "execution": {
     "iopub.execute_input": "2025-08-27T05:10:29.398269Z",
     "iopub.status.busy": "2025-08-27T05:10:29.397936Z",
     "iopub.status.idle": "2025-08-27T05:10:29.528047Z",
     "shell.execute_reply": "2025-08-27T05:10:29.526773Z"
    },
    "papermill": {
     "duration": 0.140302,
     "end_time": "2025-08-27T05:10:29.530022",
     "exception": false,
     "start_time": "2025-08-27T05:10:29.389720",
     "status": "completed"
    },
    "tags": []
   },
   "outputs": [
    {
     "name": "stdout",
     "output_type": "stream",
     "text": [
      "gender_submission.csv  test.csv  train.csv\r\n"
     ]
    }
   ],
   "source": [
    "!ls /kaggle/input/titanic"
   ]
  },
  {
   "cell_type": "code",
   "execution_count": 4,
   "id": "049d9ec8",
   "metadata": {
    "execution": {
     "iopub.execute_input": "2025-08-27T05:10:29.545783Z",
     "iopub.status.busy": "2025-08-27T05:10:29.545189Z",
     "iopub.status.idle": "2025-08-27T05:10:29.611638Z",
     "shell.execute_reply": "2025-08-27T05:10:29.610217Z"
    },
    "papermill": {
     "duration": 0.077324,
     "end_time": "2025-08-27T05:10:29.613774",
     "exception": false,
     "start_time": "2025-08-27T05:10:29.536450",
     "status": "completed"
    },
    "tags": []
   },
   "outputs": [
    {
     "name": "stdout",
     "output_type": "stream",
     "text": [
      "\n",
      "training_data: \n",
      "   PassengerId  Survived  Pclass  \\\n",
      "0            1         0       3   \n",
      "1            2         1       1   \n",
      "2            3         1       3   \n",
      "3            4         1       1   \n",
      "4            5         0       3   \n",
      "\n",
      "                                                Name     Sex   Age  SibSp  \\\n",
      "0                            Braund, Mr. Owen Harris    male  22.0      1   \n",
      "1  Cumings, Mrs. John Bradley (Florence Briggs Th...  female  38.0      1   \n",
      "2                             Heikkinen, Miss. Laina  female  26.0      0   \n",
      "3       Futrelle, Mrs. Jacques Heath (Lily May Peel)  female  35.0      1   \n",
      "4                           Allen, Mr. William Henry    male  35.0      0   \n",
      "\n",
      "   Parch            Ticket     Fare Cabin Embarked  \n",
      "0      0         A/5 21171   7.2500   NaN        S  \n",
      "1      0          PC 17599  71.2833   C85        C  \n",
      "2      0  STON/O2. 3101282   7.9250   NaN        S  \n",
      "3      0            113803  53.1000  C123        S  \n",
      "4      0            373450   8.0500   NaN        S  \n",
      "\n",
      "testing_data: \n",
      "   PassengerId  Pclass                                          Name     Sex  \\\n",
      "0          892       3                              Kelly, Mr. James    male   \n",
      "1          893       3              Wilkes, Mrs. James (Ellen Needs)  female   \n",
      "2          894       2                     Myles, Mr. Thomas Francis    male   \n",
      "3          895       3                              Wirz, Mr. Albert    male   \n",
      "4          896       3  Hirvonen, Mrs. Alexander (Helga E Lindqvist)  female   \n",
      "\n",
      "    Age  SibSp  Parch   Ticket     Fare Cabin Embarked  \n",
      "0  34.5      0      0   330911   7.8292   NaN        Q  \n",
      "1  47.0      1      0   363272   7.0000   NaN        S  \n",
      "2  62.0      0      0   240276   9.6875   NaN        Q  \n",
      "3  27.0      0      0   315154   8.6625   NaN        S  \n",
      "4  22.0      1      1  3101298  12.2875   NaN        S  \n",
      "\n",
      "submission_data: \n",
      "   PassengerId  Survived\n",
      "0          892         0\n",
      "1          893         1\n",
      "2          894         0\n",
      "3          895         0\n",
      "4          896         1\n"
     ]
    }
   ],
   "source": [
    "df = pd.read_csv(\"/kaggle/input/titanic/train.csv\")\n",
    "df_test = pd.read_csv(\"/kaggle/input/titanic/test.csv\")\n",
    "df_sb = pd.read_csv(\"/kaggle/input/titanic/gender_submission.csv\")\n",
    "print(\"\\ntraining_data: \")\n",
    "print(df.head())\n",
    "print(\"\\ntesting_data: \")\n",
    "print(df_test.head())\n",
    "print(\"\\nsubmission_data: \")\n",
    "print(df_sb.head())"
   ]
  },
  {
   "cell_type": "code",
   "execution_count": 5,
   "id": "9fe07917",
   "metadata": {
    "execution": {
     "iopub.execute_input": "2025-08-27T05:10:29.628669Z",
     "iopub.status.busy": "2025-08-27T05:10:29.628311Z",
     "iopub.status.idle": "2025-08-27T05:10:29.635765Z",
     "shell.execute_reply": "2025-08-27T05:10:29.634868Z"
    },
    "papermill": {
     "duration": 0.016916,
     "end_time": "2025-08-27T05:10:29.637331",
     "exception": false,
     "start_time": "2025-08-27T05:10:29.620415",
     "status": "completed"
    },
    "tags": []
   },
   "outputs": [
    {
     "data": {
      "text/plain": [
       "(891, 12)"
      ]
     },
     "execution_count": 5,
     "metadata": {},
     "output_type": "execute_result"
    }
   ],
   "source": [
    "df.shape"
   ]
  },
  {
   "cell_type": "code",
   "execution_count": 6,
   "id": "47c64433",
   "metadata": {
    "execution": {
     "iopub.execute_input": "2025-08-27T05:10:29.651810Z",
     "iopub.status.busy": "2025-08-27T05:10:29.651466Z",
     "iopub.status.idle": "2025-08-27T05:10:29.676138Z",
     "shell.execute_reply": "2025-08-27T05:10:29.675116Z"
    },
    "papermill": {
     "duration": 0.033744,
     "end_time": "2025-08-27T05:10:29.677798",
     "exception": false,
     "start_time": "2025-08-27T05:10:29.644054",
     "status": "completed"
    },
    "tags": []
   },
   "outputs": [
    {
     "data": {
      "text/html": [
       "<div>\n",
       "<style scoped>\n",
       "    .dataframe tbody tr th:only-of-type {\n",
       "        vertical-align: middle;\n",
       "    }\n",
       "\n",
       "    .dataframe tbody tr th {\n",
       "        vertical-align: top;\n",
       "    }\n",
       "\n",
       "    .dataframe thead th {\n",
       "        text-align: right;\n",
       "    }\n",
       "</style>\n",
       "<table border=\"1\" class=\"dataframe\">\n",
       "  <thead>\n",
       "    <tr style=\"text-align: right;\">\n",
       "      <th></th>\n",
       "      <th>PassengerId</th>\n",
       "      <th>Survived</th>\n",
       "      <th>Pclass</th>\n",
       "      <th>Name</th>\n",
       "      <th>Sex</th>\n",
       "      <th>Age</th>\n",
       "      <th>SibSp</th>\n",
       "      <th>Parch</th>\n",
       "      <th>Ticket</th>\n",
       "      <th>Fare</th>\n",
       "      <th>Cabin</th>\n",
       "      <th>Embarked</th>\n",
       "    </tr>\n",
       "  </thead>\n",
       "  <tbody>\n",
       "    <tr>\n",
       "      <th>0</th>\n",
       "      <td>1</td>\n",
       "      <td>0</td>\n",
       "      <td>3</td>\n",
       "      <td>Braund, Mr. Owen Harris</td>\n",
       "      <td>male</td>\n",
       "      <td>22.0</td>\n",
       "      <td>1</td>\n",
       "      <td>0</td>\n",
       "      <td>A/5 21171</td>\n",
       "      <td>7.2500</td>\n",
       "      <td>NaN</td>\n",
       "      <td>S</td>\n",
       "    </tr>\n",
       "    <tr>\n",
       "      <th>1</th>\n",
       "      <td>2</td>\n",
       "      <td>1</td>\n",
       "      <td>1</td>\n",
       "      <td>Cumings, Mrs. John Bradley (Florence Briggs Th...</td>\n",
       "      <td>female</td>\n",
       "      <td>38.0</td>\n",
       "      <td>1</td>\n",
       "      <td>0</td>\n",
       "      <td>PC 17599</td>\n",
       "      <td>71.2833</td>\n",
       "      <td>C85</td>\n",
       "      <td>C</td>\n",
       "    </tr>\n",
       "    <tr>\n",
       "      <th>2</th>\n",
       "      <td>3</td>\n",
       "      <td>1</td>\n",
       "      <td>3</td>\n",
       "      <td>Heikkinen, Miss. Laina</td>\n",
       "      <td>female</td>\n",
       "      <td>26.0</td>\n",
       "      <td>0</td>\n",
       "      <td>0</td>\n",
       "      <td>STON/O2. 3101282</td>\n",
       "      <td>7.9250</td>\n",
       "      <td>NaN</td>\n",
       "      <td>S</td>\n",
       "    </tr>\n",
       "    <tr>\n",
       "      <th>3</th>\n",
       "      <td>4</td>\n",
       "      <td>1</td>\n",
       "      <td>1</td>\n",
       "      <td>Futrelle, Mrs. Jacques Heath (Lily May Peel)</td>\n",
       "      <td>female</td>\n",
       "      <td>35.0</td>\n",
       "      <td>1</td>\n",
       "      <td>0</td>\n",
       "      <td>113803</td>\n",
       "      <td>53.1000</td>\n",
       "      <td>C123</td>\n",
       "      <td>S</td>\n",
       "    </tr>\n",
       "    <tr>\n",
       "      <th>4</th>\n",
       "      <td>5</td>\n",
       "      <td>0</td>\n",
       "      <td>3</td>\n",
       "      <td>Allen, Mr. William Henry</td>\n",
       "      <td>male</td>\n",
       "      <td>35.0</td>\n",
       "      <td>0</td>\n",
       "      <td>0</td>\n",
       "      <td>373450</td>\n",
       "      <td>8.0500</td>\n",
       "      <td>NaN</td>\n",
       "      <td>S</td>\n",
       "    </tr>\n",
       "  </tbody>\n",
       "</table>\n",
       "</div>"
      ],
      "text/plain": [
       "   PassengerId  Survived  Pclass  \\\n",
       "0            1         0       3   \n",
       "1            2         1       1   \n",
       "2            3         1       3   \n",
       "3            4         1       1   \n",
       "4            5         0       3   \n",
       "\n",
       "                                                Name     Sex   Age  SibSp  \\\n",
       "0                            Braund, Mr. Owen Harris    male  22.0      1   \n",
       "1  Cumings, Mrs. John Bradley (Florence Briggs Th...  female  38.0      1   \n",
       "2                             Heikkinen, Miss. Laina  female  26.0      0   \n",
       "3       Futrelle, Mrs. Jacques Heath (Lily May Peel)  female  35.0      1   \n",
       "4                           Allen, Mr. William Henry    male  35.0      0   \n",
       "\n",
       "   Parch            Ticket     Fare Cabin Embarked  \n",
       "0      0         A/5 21171   7.2500   NaN        S  \n",
       "1      0          PC 17599  71.2833   C85        C  \n",
       "2      0  STON/O2. 3101282   7.9250   NaN        S  \n",
       "3      0            113803  53.1000  C123        S  \n",
       "4      0            373450   8.0500   NaN        S  "
      ]
     },
     "execution_count": 6,
     "metadata": {},
     "output_type": "execute_result"
    }
   ],
   "source": [
    "df.head()"
   ]
  },
  {
   "cell_type": "code",
   "execution_count": 7,
   "id": "9803e6e0",
   "metadata": {
    "execution": {
     "iopub.execute_input": "2025-08-27T05:10:29.694076Z",
     "iopub.status.busy": "2025-08-27T05:10:29.693637Z",
     "iopub.status.idle": "2025-08-27T05:10:29.703125Z",
     "shell.execute_reply": "2025-08-27T05:10:29.701680Z"
    },
    "papermill": {
     "duration": 0.019911,
     "end_time": "2025-08-27T05:10:29.704938",
     "exception": false,
     "start_time": "2025-08-27T05:10:29.685027",
     "status": "completed"
    },
    "tags": []
   },
   "outputs": [],
   "source": [
    "df[\"flag\"] = 0\n",
    "df_test[\"flag\"] = 1"
   ]
  },
  {
   "cell_type": "code",
   "execution_count": 8,
   "id": "622ff03b",
   "metadata": {
    "execution": {
     "iopub.execute_input": "2025-08-27T05:10:29.722526Z",
     "iopub.status.busy": "2025-08-27T05:10:29.720823Z",
     "iopub.status.idle": "2025-08-27T05:10:29.729696Z",
     "shell.execute_reply": "2025-08-27T05:10:29.728866Z"
    },
    "papermill": {
     "duration": 0.019568,
     "end_time": "2025-08-27T05:10:29.731430",
     "exception": false,
     "start_time": "2025-08-27T05:10:29.711862",
     "status": "completed"
    },
    "tags": []
   },
   "outputs": [
    {
     "data": {
      "text/plain": [
       "0      0\n",
       "1      1\n",
       "2      1\n",
       "3      1\n",
       "4      0\n",
       "      ..\n",
       "886    0\n",
       "887    1\n",
       "888    0\n",
       "889    1\n",
       "890    0\n",
       "Name: Survived, Length: 891, dtype: int64"
      ]
     },
     "execution_count": 8,
     "metadata": {},
     "output_type": "execute_result"
    }
   ],
   "source": [
    "df_label = df[\"Survived\"]\n",
    "df_label"
   ]
  },
  {
   "cell_type": "code",
   "execution_count": 9,
   "id": "66bfc9cf",
   "metadata": {
    "execution": {
     "iopub.execute_input": "2025-08-27T05:10:29.746929Z",
     "iopub.status.busy": "2025-08-27T05:10:29.746420Z",
     "iopub.status.idle": "2025-08-27T05:10:29.765413Z",
     "shell.execute_reply": "2025-08-27T05:10:29.763991Z"
    },
    "papermill": {
     "duration": 0.02948,
     "end_time": "2025-08-27T05:10:29.767969",
     "exception": false,
     "start_time": "2025-08-27T05:10:29.738489",
     "status": "completed"
    },
    "tags": []
   },
   "outputs": [],
   "source": [
    "dataset = pd.concat([df, df_test], ignore_index = True)"
   ]
  },
  {
   "cell_type": "code",
   "execution_count": 10,
   "id": "4b40e0e3",
   "metadata": {
    "execution": {
     "iopub.execute_input": "2025-08-27T05:10:29.786993Z",
     "iopub.status.busy": "2025-08-27T05:10:29.786667Z",
     "iopub.status.idle": "2025-08-27T05:10:29.812453Z",
     "shell.execute_reply": "2025-08-27T05:10:29.810293Z"
    },
    "papermill": {
     "duration": 0.037876,
     "end_time": "2025-08-27T05:10:29.814202",
     "exception": false,
     "start_time": "2025-08-27T05:10:29.776326",
     "status": "completed"
    },
    "tags": []
   },
   "outputs": [
    {
     "name": "stderr",
     "output_type": "stream",
     "text": [
      "/usr/local/lib/python3.11/dist-packages/pandas/io/formats/format.py:1458: RuntimeWarning: invalid value encountered in greater\n",
      "  has_large_values = (abs_vals > 1e6).any()\n",
      "/usr/local/lib/python3.11/dist-packages/pandas/io/formats/format.py:1459: RuntimeWarning: invalid value encountered in less\n",
      "  has_small_values = ((abs_vals < 10 ** (-self.digits)) & (abs_vals > 0)).any()\n",
      "/usr/local/lib/python3.11/dist-packages/pandas/io/formats/format.py:1459: RuntimeWarning: invalid value encountered in greater\n",
      "  has_small_values = ((abs_vals < 10 ** (-self.digits)) & (abs_vals > 0)).any()\n"
     ]
    },
    {
     "data": {
      "text/html": [
       "<div>\n",
       "<style scoped>\n",
       "    .dataframe tbody tr th:only-of-type {\n",
       "        vertical-align: middle;\n",
       "    }\n",
       "\n",
       "    .dataframe tbody tr th {\n",
       "        vertical-align: top;\n",
       "    }\n",
       "\n",
       "    .dataframe thead th {\n",
       "        text-align: right;\n",
       "    }\n",
       "</style>\n",
       "<table border=\"1\" class=\"dataframe\">\n",
       "  <thead>\n",
       "    <tr style=\"text-align: right;\">\n",
       "      <th></th>\n",
       "      <th>PassengerId</th>\n",
       "      <th>Survived</th>\n",
       "      <th>Pclass</th>\n",
       "      <th>Name</th>\n",
       "      <th>Sex</th>\n",
       "      <th>Age</th>\n",
       "      <th>SibSp</th>\n",
       "      <th>Parch</th>\n",
       "      <th>Ticket</th>\n",
       "      <th>Fare</th>\n",
       "      <th>Cabin</th>\n",
       "      <th>Embarked</th>\n",
       "      <th>flag</th>\n",
       "    </tr>\n",
       "  </thead>\n",
       "  <tbody>\n",
       "    <tr>\n",
       "      <th>891</th>\n",
       "      <td>892</td>\n",
       "      <td>NaN</td>\n",
       "      <td>3</td>\n",
       "      <td>Kelly, Mr. James</td>\n",
       "      <td>male</td>\n",
       "      <td>34.5</td>\n",
       "      <td>0</td>\n",
       "      <td>0</td>\n",
       "      <td>330911</td>\n",
       "      <td>7.8292</td>\n",
       "      <td>NaN</td>\n",
       "      <td>Q</td>\n",
       "      <td>1</td>\n",
       "    </tr>\n",
       "    <tr>\n",
       "      <th>892</th>\n",
       "      <td>893</td>\n",
       "      <td>NaN</td>\n",
       "      <td>3</td>\n",
       "      <td>Wilkes, Mrs. James (Ellen Needs)</td>\n",
       "      <td>female</td>\n",
       "      <td>47.0</td>\n",
       "      <td>1</td>\n",
       "      <td>0</td>\n",
       "      <td>363272</td>\n",
       "      <td>7.0000</td>\n",
       "      <td>NaN</td>\n",
       "      <td>S</td>\n",
       "      <td>1</td>\n",
       "    </tr>\n",
       "    <tr>\n",
       "      <th>893</th>\n",
       "      <td>894</td>\n",
       "      <td>NaN</td>\n",
       "      <td>2</td>\n",
       "      <td>Myles, Mr. Thomas Francis</td>\n",
       "      <td>male</td>\n",
       "      <td>62.0</td>\n",
       "      <td>0</td>\n",
       "      <td>0</td>\n",
       "      <td>240276</td>\n",
       "      <td>9.6875</td>\n",
       "      <td>NaN</td>\n",
       "      <td>Q</td>\n",
       "      <td>1</td>\n",
       "    </tr>\n",
       "    <tr>\n",
       "      <th>894</th>\n",
       "      <td>895</td>\n",
       "      <td>NaN</td>\n",
       "      <td>3</td>\n",
       "      <td>Wirz, Mr. Albert</td>\n",
       "      <td>male</td>\n",
       "      <td>27.0</td>\n",
       "      <td>0</td>\n",
       "      <td>0</td>\n",
       "      <td>315154</td>\n",
       "      <td>8.6625</td>\n",
       "      <td>NaN</td>\n",
       "      <td>S</td>\n",
       "      <td>1</td>\n",
       "    </tr>\n",
       "    <tr>\n",
       "      <th>895</th>\n",
       "      <td>896</td>\n",
       "      <td>NaN</td>\n",
       "      <td>3</td>\n",
       "      <td>Hirvonen, Mrs. Alexander (Helga E Lindqvist)</td>\n",
       "      <td>female</td>\n",
       "      <td>22.0</td>\n",
       "      <td>1</td>\n",
       "      <td>1</td>\n",
       "      <td>3101298</td>\n",
       "      <td>12.2875</td>\n",
       "      <td>NaN</td>\n",
       "      <td>S</td>\n",
       "      <td>1</td>\n",
       "    </tr>\n",
       "  </tbody>\n",
       "</table>\n",
       "</div>"
      ],
      "text/plain": [
       "     PassengerId  Survived  Pclass  \\\n",
       "891          892       NaN       3   \n",
       "892          893       NaN       3   \n",
       "893          894       NaN       2   \n",
       "894          895       NaN       3   \n",
       "895          896       NaN       3   \n",
       "\n",
       "                                             Name     Sex   Age  SibSp  Parch  \\\n",
       "891                              Kelly, Mr. James    male  34.5      0      0   \n",
       "892              Wilkes, Mrs. James (Ellen Needs)  female  47.0      1      0   \n",
       "893                     Myles, Mr. Thomas Francis    male  62.0      0      0   \n",
       "894                              Wirz, Mr. Albert    male  27.0      0      0   \n",
       "895  Hirvonen, Mrs. Alexander (Helga E Lindqvist)  female  22.0      1      1   \n",
       "\n",
       "      Ticket     Fare Cabin Embarked  flag  \n",
       "891   330911   7.8292   NaN        Q     1  \n",
       "892   363272   7.0000   NaN        S     1  \n",
       "893   240276   9.6875   NaN        Q     1  \n",
       "894   315154   8.6625   NaN        S     1  \n",
       "895  3101298  12.2875   NaN        S     1  "
      ]
     },
     "execution_count": 10,
     "metadata": {},
     "output_type": "execute_result"
    }
   ],
   "source": [
    "dataset[dataset[\"flag\"]== 1].head()"
   ]
  },
  {
   "cell_type": "code",
   "execution_count": 11,
   "id": "9bb3c128",
   "metadata": {
    "execution": {
     "iopub.execute_input": "2025-08-27T05:10:29.832541Z",
     "iopub.status.busy": "2025-08-27T05:10:29.831486Z",
     "iopub.status.idle": "2025-08-27T05:10:29.837886Z",
     "shell.execute_reply": "2025-08-27T05:10:29.836530Z"
    },
    "papermill": {
     "duration": 0.017139,
     "end_time": "2025-08-27T05:10:29.839345",
     "exception": false,
     "start_time": "2025-08-27T05:10:29.822206",
     "status": "completed"
    },
    "tags": []
   },
   "outputs": [
    {
     "data": {
      "text/plain": [
       "(1309, 13)"
      ]
     },
     "execution_count": 11,
     "metadata": {},
     "output_type": "execute_result"
    }
   ],
   "source": [
    "dataset.shape"
   ]
  },
  {
   "cell_type": "code",
   "execution_count": 12,
   "id": "ab1f756c",
   "metadata": {
    "execution": {
     "iopub.execute_input": "2025-08-27T05:10:29.856521Z",
     "iopub.status.busy": "2025-08-27T05:10:29.855782Z",
     "iopub.status.idle": "2025-08-27T05:10:29.878468Z",
     "shell.execute_reply": "2025-08-27T05:10:29.877045Z"
    },
    "papermill": {
     "duration": 0.033478,
     "end_time": "2025-08-27T05:10:29.880192",
     "exception": false,
     "start_time": "2025-08-27T05:10:29.846714",
     "status": "completed"
    },
    "tags": []
   },
   "outputs": [
    {
     "name": "stdout",
     "output_type": "stream",
     "text": [
      "<class 'pandas.core.frame.DataFrame'>\n",
      "RangeIndex: 1309 entries, 0 to 1308\n",
      "Data columns (total 13 columns):\n",
      " #   Column       Non-Null Count  Dtype  \n",
      "---  ------       --------------  -----  \n",
      " 0   PassengerId  1309 non-null   int64  \n",
      " 1   Survived     891 non-null    float64\n",
      " 2   Pclass       1309 non-null   int64  \n",
      " 3   Name         1309 non-null   object \n",
      " 4   Sex          1309 non-null   object \n",
      " 5   Age          1046 non-null   float64\n",
      " 6   SibSp        1309 non-null   int64  \n",
      " 7   Parch        1309 non-null   int64  \n",
      " 8   Ticket       1309 non-null   object \n",
      " 9   Fare         1308 non-null   float64\n",
      " 10  Cabin        295 non-null    object \n",
      " 11  Embarked     1307 non-null   object \n",
      " 12  flag         1309 non-null   int64  \n",
      "dtypes: float64(3), int64(5), object(5)\n",
      "memory usage: 133.1+ KB\n"
     ]
    }
   ],
   "source": [
    "dataset.info()"
   ]
  },
  {
   "cell_type": "code",
   "execution_count": 13,
   "id": "7a8104f6",
   "metadata": {
    "execution": {
     "iopub.execute_input": "2025-08-27T05:10:29.896224Z",
     "iopub.status.busy": "2025-08-27T05:10:29.895860Z",
     "iopub.status.idle": "2025-08-27T05:10:29.910498Z",
     "shell.execute_reply": "2025-08-27T05:10:29.909447Z"
    },
    "papermill": {
     "duration": 0.025198,
     "end_time": "2025-08-27T05:10:29.912740",
     "exception": false,
     "start_time": "2025-08-27T05:10:29.887542",
     "status": "completed"
    },
    "tags": []
   },
   "outputs": [],
   "source": [
    "for col in dataset.columns:\n",
    "    if(dataset[col].isnull().sum() > 0):\n",
    "        if(dataset[col].dtype == \"object\"):\n",
    "            dataset[col] = dataset[col].fillna(dataset[col].value_counts().idxmax()).infer_objects(copy = False)\n",
    "        else:\n",
    "            dataset[col] = dataset[col].fillna(dataset[col].mean())"
   ]
  },
  {
   "cell_type": "code",
   "execution_count": 14,
   "id": "d0d22ee8",
   "metadata": {
    "execution": {
     "iopub.execute_input": "2025-08-27T05:10:29.930702Z",
     "iopub.status.busy": "2025-08-27T05:10:29.930364Z",
     "iopub.status.idle": "2025-08-27T05:10:29.946679Z",
     "shell.execute_reply": "2025-08-27T05:10:29.945368Z"
    },
    "papermill": {
     "duration": 0.027419,
     "end_time": "2025-08-27T05:10:29.948788",
     "exception": false,
     "start_time": "2025-08-27T05:10:29.921369",
     "status": "completed"
    },
    "tags": []
   },
   "outputs": [
    {
     "name": "stdout",
     "output_type": "stream",
     "text": [
      "<class 'pandas.core.frame.DataFrame'>\n",
      "RangeIndex: 1309 entries, 0 to 1308\n",
      "Data columns (total 13 columns):\n",
      " #   Column       Non-Null Count  Dtype  \n",
      "---  ------       --------------  -----  \n",
      " 0   PassengerId  1309 non-null   int64  \n",
      " 1   Survived     1309 non-null   float64\n",
      " 2   Pclass       1309 non-null   int64  \n",
      " 3   Name         1309 non-null   object \n",
      " 4   Sex          1309 non-null   object \n",
      " 5   Age          1309 non-null   float64\n",
      " 6   SibSp        1309 non-null   int64  \n",
      " 7   Parch        1309 non-null   int64  \n",
      " 8   Ticket       1309 non-null   object \n",
      " 9   Fare         1309 non-null   float64\n",
      " 10  Cabin        1309 non-null   object \n",
      " 11  Embarked     1309 non-null   object \n",
      " 12  flag         1309 non-null   int64  \n",
      "dtypes: float64(3), int64(5), object(5)\n",
      "memory usage: 133.1+ KB\n"
     ]
    }
   ],
   "source": [
    "dataset.info()"
   ]
  },
  {
   "cell_type": "code",
   "execution_count": 15,
   "id": "830d123c",
   "metadata": {
    "execution": {
     "iopub.execute_input": "2025-08-27T05:10:29.966093Z",
     "iopub.status.busy": "2025-08-27T05:10:29.965790Z",
     "iopub.status.idle": "2025-08-27T05:10:29.973228Z",
     "shell.execute_reply": "2025-08-27T05:10:29.972201Z"
    },
    "papermill": {
     "duration": 0.019269,
     "end_time": "2025-08-27T05:10:29.975526",
     "exception": false,
     "start_time": "2025-08-27T05:10:29.956257",
     "status": "completed"
    },
    "tags": []
   },
   "outputs": [],
   "source": [
    "dataset = dataset.drop(columns = [\"PassengerId\", \"Name\", \"Survived\", \"Ticket\"])"
   ]
  },
  {
   "cell_type": "code",
   "execution_count": 16,
   "id": "c051c2a0",
   "metadata": {
    "execution": {
     "iopub.execute_input": "2025-08-27T05:10:29.994405Z",
     "iopub.status.busy": "2025-08-27T05:10:29.994084Z",
     "iopub.status.idle": "2025-08-27T05:10:30.010966Z",
     "shell.execute_reply": "2025-08-27T05:10:30.009819Z"
    },
    "papermill": {
     "duration": 0.027972,
     "end_time": "2025-08-27T05:10:30.012644",
     "exception": false,
     "start_time": "2025-08-27T05:10:29.984672",
     "status": "completed"
    },
    "tags": []
   },
   "outputs": [
    {
     "name": "stdout",
     "output_type": "stream",
     "text": [
      "<class 'pandas.core.frame.DataFrame'>\n",
      "RangeIndex: 1309 entries, 0 to 1308\n",
      "Data columns (total 9 columns):\n",
      " #   Column    Non-Null Count  Dtype  \n",
      "---  ------    --------------  -----  \n",
      " 0   Pclass    1309 non-null   int64  \n",
      " 1   Sex       1309 non-null   object \n",
      " 2   Age       1309 non-null   float64\n",
      " 3   SibSp     1309 non-null   int64  \n",
      " 4   Parch     1309 non-null   int64  \n",
      " 5   Fare      1309 non-null   float64\n",
      " 6   Cabin     1309 non-null   object \n",
      " 7   Embarked  1309 non-null   object \n",
      " 8   flag      1309 non-null   int64  \n",
      "dtypes: float64(2), int64(4), object(3)\n",
      "memory usage: 92.2+ KB\n"
     ]
    }
   ],
   "source": [
    "dataset.info()"
   ]
  },
  {
   "cell_type": "code",
   "execution_count": 17,
   "id": "db6e8d98",
   "metadata": {
    "execution": {
     "iopub.execute_input": "2025-08-27T05:10:30.029924Z",
     "iopub.status.busy": "2025-08-27T05:10:30.029636Z",
     "iopub.status.idle": "2025-08-27T05:10:30.035254Z",
     "shell.execute_reply": "2025-08-27T05:10:30.034236Z"
    },
    "papermill": {
     "duration": 0.016479,
     "end_time": "2025-08-27T05:10:30.036827",
     "exception": false,
     "start_time": "2025-08-27T05:10:30.020348",
     "status": "completed"
    },
    "tags": []
   },
   "outputs": [],
   "source": [
    "dataset[\"Sex\"] = dataset[\"Sex\"].map({\"male\" : 1, \"female\" : 0})\n",
    "# dataset.head()"
   ]
  },
  {
   "cell_type": "code",
   "execution_count": 18,
   "id": "8dd82cf4",
   "metadata": {
    "execution": {
     "iopub.execute_input": "2025-08-27T05:10:30.054473Z",
     "iopub.status.busy": "2025-08-27T05:10:30.054144Z",
     "iopub.status.idle": "2025-08-27T05:10:30.063861Z",
     "shell.execute_reply": "2025-08-27T05:10:30.062905Z"
    },
    "papermill": {
     "duration": 0.020752,
     "end_time": "2025-08-27T05:10:30.065399",
     "exception": false,
     "start_time": "2025-08-27T05:10:30.044647",
     "status": "completed"
    },
    "tags": []
   },
   "outputs": [],
   "source": [
    "df = dataset[dataset[\"flag\"] == 0].drop(columns = [\"flag\"])\n",
    "df_test= dataset[dataset[\"flag\"] == 1].drop(columns = [\"flag\"])"
   ]
  },
  {
   "cell_type": "code",
   "execution_count": 19,
   "id": "ed3acda2",
   "metadata": {
    "execution": {
     "iopub.execute_input": "2025-08-27T05:10:30.081770Z",
     "iopub.status.busy": "2025-08-27T05:10:30.081012Z",
     "iopub.status.idle": "2025-08-27T05:10:30.092280Z",
     "shell.execute_reply": "2025-08-27T05:10:30.091387Z"
    },
    "papermill": {
     "duration": 0.021075,
     "end_time": "2025-08-27T05:10:30.093892",
     "exception": false,
     "start_time": "2025-08-27T05:10:30.072817",
     "status": "completed"
    },
    "tags": []
   },
   "outputs": [
    {
     "data": {
      "text/html": [
       "<div>\n",
       "<style scoped>\n",
       "    .dataframe tbody tr th:only-of-type {\n",
       "        vertical-align: middle;\n",
       "    }\n",
       "\n",
       "    .dataframe tbody tr th {\n",
       "        vertical-align: top;\n",
       "    }\n",
       "\n",
       "    .dataframe thead th {\n",
       "        text-align: right;\n",
       "    }\n",
       "</style>\n",
       "<table border=\"1\" class=\"dataframe\">\n",
       "  <thead>\n",
       "    <tr style=\"text-align: right;\">\n",
       "      <th></th>\n",
       "      <th>Pclass</th>\n",
       "      <th>Sex</th>\n",
       "      <th>Age</th>\n",
       "      <th>SibSp</th>\n",
       "      <th>Parch</th>\n",
       "      <th>Fare</th>\n",
       "      <th>Cabin</th>\n",
       "      <th>Embarked</th>\n",
       "    </tr>\n",
       "  </thead>\n",
       "  <tbody>\n",
       "    <tr>\n",
       "      <th>0</th>\n",
       "      <td>3</td>\n",
       "      <td>1</td>\n",
       "      <td>22.0</td>\n",
       "      <td>1</td>\n",
       "      <td>0</td>\n",
       "      <td>7.2500</td>\n",
       "      <td>C23 C25 C27</td>\n",
       "      <td>S</td>\n",
       "    </tr>\n",
       "    <tr>\n",
       "      <th>1</th>\n",
       "      <td>1</td>\n",
       "      <td>0</td>\n",
       "      <td>38.0</td>\n",
       "      <td>1</td>\n",
       "      <td>0</td>\n",
       "      <td>71.2833</td>\n",
       "      <td>C85</td>\n",
       "      <td>C</td>\n",
       "    </tr>\n",
       "    <tr>\n",
       "      <th>2</th>\n",
       "      <td>3</td>\n",
       "      <td>0</td>\n",
       "      <td>26.0</td>\n",
       "      <td>0</td>\n",
       "      <td>0</td>\n",
       "      <td>7.9250</td>\n",
       "      <td>C23 C25 C27</td>\n",
       "      <td>S</td>\n",
       "    </tr>\n",
       "    <tr>\n",
       "      <th>3</th>\n",
       "      <td>1</td>\n",
       "      <td>0</td>\n",
       "      <td>35.0</td>\n",
       "      <td>1</td>\n",
       "      <td>0</td>\n",
       "      <td>53.1000</td>\n",
       "      <td>C123</td>\n",
       "      <td>S</td>\n",
       "    </tr>\n",
       "    <tr>\n",
       "      <th>4</th>\n",
       "      <td>3</td>\n",
       "      <td>1</td>\n",
       "      <td>35.0</td>\n",
       "      <td>0</td>\n",
       "      <td>0</td>\n",
       "      <td>8.0500</td>\n",
       "      <td>C23 C25 C27</td>\n",
       "      <td>S</td>\n",
       "    </tr>\n",
       "  </tbody>\n",
       "</table>\n",
       "</div>"
      ],
      "text/plain": [
       "   Pclass  Sex   Age  SibSp  Parch     Fare        Cabin Embarked\n",
       "0       3    1  22.0      1      0   7.2500  C23 C25 C27        S\n",
       "1       1    0  38.0      1      0  71.2833          C85        C\n",
       "2       3    0  26.0      0      0   7.9250  C23 C25 C27        S\n",
       "3       1    0  35.0      1      0  53.1000         C123        S\n",
       "4       3    1  35.0      0      0   8.0500  C23 C25 C27        S"
      ]
     },
     "execution_count": 19,
     "metadata": {},
     "output_type": "execute_result"
    }
   ],
   "source": [
    "df.head()"
   ]
  },
  {
   "cell_type": "code",
   "execution_count": 20,
   "id": "b37c23e8",
   "metadata": {
    "execution": {
     "iopub.execute_input": "2025-08-27T05:10:30.110404Z",
     "iopub.status.busy": "2025-08-27T05:10:30.110089Z",
     "iopub.status.idle": "2025-08-27T05:10:31.828535Z",
     "shell.execute_reply": "2025-08-27T05:10:31.827598Z"
    },
    "papermill": {
     "duration": 1.728674,
     "end_time": "2025-08-27T05:10:31.830184",
     "exception": false,
     "start_time": "2025-08-27T05:10:30.101510",
     "status": "completed"
    },
    "tags": []
   },
   "outputs": [],
   "source": [
    "from sklearn.model_selection import train_test_split\n",
    "x = df\n",
    "y = df_label\n",
    "x_train, x_test, y_train, y_test = train_test_split(x, y, test_size = 0.20, random_state = 36)"
   ]
  },
  {
   "cell_type": "code",
   "execution_count": 21,
   "id": "27f9c11a",
   "metadata": {
    "execution": {
     "iopub.execute_input": "2025-08-27T05:10:31.848091Z",
     "iopub.status.busy": "2025-08-27T05:10:31.847281Z",
     "iopub.status.idle": "2025-08-27T05:10:32.785637Z",
     "shell.execute_reply": "2025-08-27T05:10:32.784638Z"
    },
    "papermill": {
     "duration": 0.9496,
     "end_time": "2025-08-27T05:10:32.787456",
     "exception": false,
     "start_time": "2025-08-27T05:10:31.837856",
     "status": "completed"
    },
    "tags": []
   },
   "outputs": [],
   "source": [
    "col = df.select_dtypes(include = [\"object\"]).columns\n",
    "from category_encoders import TargetEncoder\n",
    "encoder= TargetEncoder(cols = col)\n",
    "x_train = encoder.fit_transform(x_train,y_train)\n",
    "x_test = encoder.transform(x_test)"
   ]
  },
  {
   "cell_type": "code",
   "execution_count": 22,
   "id": "854cc5f1",
   "metadata": {
    "execution": {
     "iopub.execute_input": "2025-08-27T05:10:32.805791Z",
     "iopub.status.busy": "2025-08-27T05:10:32.805288Z",
     "iopub.status.idle": "2025-08-27T05:10:32.817109Z",
     "shell.execute_reply": "2025-08-27T05:10:32.815826Z"
    },
    "papermill": {
     "duration": 0.022992,
     "end_time": "2025-08-27T05:10:32.819140",
     "exception": false,
     "start_time": "2025-08-27T05:10:32.796148",
     "status": "completed"
    },
    "tags": []
   },
   "outputs": [],
   "source": [
    "from sklearn.preprocessing import MinMaxScaler\n",
    "scaler = MinMaxScaler()\n",
    "x_train = scaler.fit_transform(x_train)\n",
    "x_test = scaler.transform(x_test)"
   ]
  },
  {
   "cell_type": "code",
   "execution_count": 23,
   "id": "e4c43f4a",
   "metadata": {
    "execution": {
     "iopub.execute_input": "2025-08-27T05:10:32.837755Z",
     "iopub.status.busy": "2025-08-27T05:10:32.837412Z",
     "iopub.status.idle": "2025-08-27T05:10:32.984738Z",
     "shell.execute_reply": "2025-08-27T05:10:32.982956Z"
    },
    "papermill": {
     "duration": 0.159549,
     "end_time": "2025-08-27T05:10:32.986910",
     "exception": false,
     "start_time": "2025-08-27T05:10:32.827361",
     "status": "completed"
    },
    "tags": []
   },
   "outputs": [
    {
     "data": {
      "text/html": [
       "<style>#sk-container-id-1 {color: black;background-color: white;}#sk-container-id-1 pre{padding: 0;}#sk-container-id-1 div.sk-toggleable {background-color: white;}#sk-container-id-1 label.sk-toggleable__label {cursor: pointer;display: block;width: 100%;margin-bottom: 0;padding: 0.3em;box-sizing: border-box;text-align: center;}#sk-container-id-1 label.sk-toggleable__label-arrow:before {content: \"▸\";float: left;margin-right: 0.25em;color: #696969;}#sk-container-id-1 label.sk-toggleable__label-arrow:hover:before {color: black;}#sk-container-id-1 div.sk-estimator:hover label.sk-toggleable__label-arrow:before {color: black;}#sk-container-id-1 div.sk-toggleable__content {max-height: 0;max-width: 0;overflow: hidden;text-align: left;background-color: #f0f8ff;}#sk-container-id-1 div.sk-toggleable__content pre {margin: 0.2em;color: black;border-radius: 0.25em;background-color: #f0f8ff;}#sk-container-id-1 input.sk-toggleable__control:checked~div.sk-toggleable__content {max-height: 200px;max-width: 100%;overflow: auto;}#sk-container-id-1 input.sk-toggleable__control:checked~label.sk-toggleable__label-arrow:before {content: \"▾\";}#sk-container-id-1 div.sk-estimator input.sk-toggleable__control:checked~label.sk-toggleable__label {background-color: #d4ebff;}#sk-container-id-1 div.sk-label input.sk-toggleable__control:checked~label.sk-toggleable__label {background-color: #d4ebff;}#sk-container-id-1 input.sk-hidden--visually {border: 0;clip: rect(1px 1px 1px 1px);clip: rect(1px, 1px, 1px, 1px);height: 1px;margin: -1px;overflow: hidden;padding: 0;position: absolute;width: 1px;}#sk-container-id-1 div.sk-estimator {font-family: monospace;background-color: #f0f8ff;border: 1px dotted black;border-radius: 0.25em;box-sizing: border-box;margin-bottom: 0.5em;}#sk-container-id-1 div.sk-estimator:hover {background-color: #d4ebff;}#sk-container-id-1 div.sk-parallel-item::after {content: \"\";width: 100%;border-bottom: 1px solid gray;flex-grow: 1;}#sk-container-id-1 div.sk-label:hover label.sk-toggleable__label {background-color: #d4ebff;}#sk-container-id-1 div.sk-serial::before {content: \"\";position: absolute;border-left: 1px solid gray;box-sizing: border-box;top: 0;bottom: 0;left: 50%;z-index: 0;}#sk-container-id-1 div.sk-serial {display: flex;flex-direction: column;align-items: center;background-color: white;padding-right: 0.2em;padding-left: 0.2em;position: relative;}#sk-container-id-1 div.sk-item {position: relative;z-index: 1;}#sk-container-id-1 div.sk-parallel {display: flex;align-items: stretch;justify-content: center;background-color: white;position: relative;}#sk-container-id-1 div.sk-item::before, #sk-container-id-1 div.sk-parallel-item::before {content: \"\";position: absolute;border-left: 1px solid gray;box-sizing: border-box;top: 0;bottom: 0;left: 50%;z-index: -1;}#sk-container-id-1 div.sk-parallel-item {display: flex;flex-direction: column;z-index: 1;position: relative;background-color: white;}#sk-container-id-1 div.sk-parallel-item:first-child::after {align-self: flex-end;width: 50%;}#sk-container-id-1 div.sk-parallel-item:last-child::after {align-self: flex-start;width: 50%;}#sk-container-id-1 div.sk-parallel-item:only-child::after {width: 0;}#sk-container-id-1 div.sk-dashed-wrapped {border: 1px dashed gray;margin: 0 0.4em 0.5em 0.4em;box-sizing: border-box;padding-bottom: 0.4em;background-color: white;}#sk-container-id-1 div.sk-label label {font-family: monospace;font-weight: bold;display: inline-block;line-height: 1.2em;}#sk-container-id-1 div.sk-label-container {text-align: center;}#sk-container-id-1 div.sk-container {/* jupyter's `normalize.less` sets `[hidden] { display: none; }` but bootstrap.min.css set `[hidden] { display: none !important; }` so we also need the `!important` here to be able to override the default hidden behavior on the sphinx rendered scikit-learn.org. See: https://github.com/scikit-learn/scikit-learn/issues/21755 */display: inline-block !important;position: relative;}#sk-container-id-1 div.sk-text-repr-fallback {display: none;}</style><div id=\"sk-container-id-1\" class=\"sk-top-container\"><div class=\"sk-text-repr-fallback\"><pre>SVC(C=300, gamma=&#x27;auto&#x27;, kernel=&#x27;poly&#x27;)</pre><b>In a Jupyter environment, please rerun this cell to show the HTML representation or trust the notebook. <br />On GitHub, the HTML representation is unable to render, please try loading this page with nbviewer.org.</b></div><div class=\"sk-container\" hidden><div class=\"sk-item\"><div class=\"sk-estimator sk-toggleable\"><input class=\"sk-toggleable__control sk-hidden--visually\" id=\"sk-estimator-id-1\" type=\"checkbox\" checked><label for=\"sk-estimator-id-1\" class=\"sk-toggleable__label sk-toggleable__label-arrow\">SVC</label><div class=\"sk-toggleable__content\"><pre>SVC(C=300, gamma=&#x27;auto&#x27;, kernel=&#x27;poly&#x27;)</pre></div></div></div></div></div>"
      ],
      "text/plain": [
       "SVC(C=300, gamma='auto', kernel='poly')"
      ]
     },
     "execution_count": 23,
     "metadata": {},
     "output_type": "execute_result"
    }
   ],
   "source": [
    "from sklearn.svm import SVC\n",
    "model = SVC(kernel = \"poly\", C = 300, gamma = \"auto\")\n",
    "model.fit(x_train, y_train)"
   ]
  },
  {
   "cell_type": "code",
   "execution_count": 24,
   "id": "734fa085",
   "metadata": {
    "execution": {
     "iopub.execute_input": "2025-08-27T05:10:33.006855Z",
     "iopub.status.busy": "2025-08-27T05:10:33.006495Z",
     "iopub.status.idle": "2025-08-27T05:10:33.022042Z",
     "shell.execute_reply": "2025-08-27T05:10:33.020929Z"
    },
    "papermill": {
     "duration": 0.02946,
     "end_time": "2025-08-27T05:10:33.024373",
     "exception": false,
     "start_time": "2025-08-27T05:10:32.994913",
     "status": "completed"
    },
    "tags": []
   },
   "outputs": [
    {
     "data": {
      "text/plain": [
       "0.8609550561797753"
      ]
     },
     "execution_count": 24,
     "metadata": {},
     "output_type": "execute_result"
    }
   ],
   "source": [
    "model.score(x_train, y_train)"
   ]
  },
  {
   "cell_type": "code",
   "execution_count": 25,
   "id": "03919598",
   "metadata": {
    "execution": {
     "iopub.execute_input": "2025-08-27T05:10:33.045212Z",
     "iopub.status.busy": "2025-08-27T05:10:33.044904Z",
     "iopub.status.idle": "2025-08-27T05:10:33.053161Z",
     "shell.execute_reply": "2025-08-27T05:10:33.052157Z"
    },
    "papermill": {
     "duration": 0.021606,
     "end_time": "2025-08-27T05:10:33.055202",
     "exception": false,
     "start_time": "2025-08-27T05:10:33.033596",
     "status": "completed"
    },
    "tags": []
   },
   "outputs": [
    {
     "data": {
      "text/plain": [
       "0.8379888268156425"
      ]
     },
     "execution_count": 25,
     "metadata": {},
     "output_type": "execute_result"
    }
   ],
   "source": [
    "model.score(x_test, y_test)"
   ]
  },
  {
   "cell_type": "code",
   "execution_count": 26,
   "id": "e66bcd6b",
   "metadata": {
    "execution": {
     "iopub.execute_input": "2025-08-27T05:10:33.142153Z",
     "iopub.status.busy": "2025-08-27T05:10:33.141746Z",
     "iopub.status.idle": "2025-08-27T05:10:33.147732Z",
     "shell.execute_reply": "2025-08-27T05:10:33.146397Z"
    },
    "papermill": {
     "duration": 0.086015,
     "end_time": "2025-08-27T05:10:33.150108",
     "exception": false,
     "start_time": "2025-08-27T05:10:33.064093",
     "status": "completed"
    },
    "tags": []
   },
   "outputs": [],
   "source": [
    "y_pred= model.predict(x_test)"
   ]
  },
  {
   "cell_type": "code",
   "execution_count": 27,
   "id": "b4d5a48c",
   "metadata": {
    "execution": {
     "iopub.execute_input": "2025-08-27T05:10:33.168754Z",
     "iopub.status.busy": "2025-08-27T05:10:33.168422Z",
     "iopub.status.idle": "2025-08-27T05:10:33.177807Z",
     "shell.execute_reply": "2025-08-27T05:10:33.176580Z"
    },
    "papermill": {
     "duration": 0.020279,
     "end_time": "2025-08-27T05:10:33.179687",
     "exception": false,
     "start_time": "2025-08-27T05:10:33.159408",
     "status": "completed"
    },
    "tags": []
   },
   "outputs": [
    {
     "name": "stdout",
     "output_type": "stream",
     "text": [
      "[[95 10]\n",
      " [19 55]]\n"
     ]
    }
   ],
   "source": [
    "from sklearn.metrics import confusion_matrix, classification_report\n",
    "matrix = confusion_matrix(y_test, y_pred)\n",
    "print(matrix)"
   ]
  },
  {
   "cell_type": "code",
   "execution_count": 28,
   "id": "974f1a22",
   "metadata": {
    "execution": {
     "iopub.execute_input": "2025-08-27T05:10:33.197275Z",
     "iopub.status.busy": "2025-08-27T05:10:33.196962Z",
     "iopub.status.idle": "2025-08-27T05:10:33.211173Z",
     "shell.execute_reply": "2025-08-27T05:10:33.210072Z"
    },
    "papermill": {
     "duration": 0.024781,
     "end_time": "2025-08-27T05:10:33.212819",
     "exception": false,
     "start_time": "2025-08-27T05:10:33.188038",
     "status": "completed"
    },
    "tags": []
   },
   "outputs": [
    {
     "name": "stdout",
     "output_type": "stream",
     "text": [
      "              precision    recall  f1-score   support\n",
      "\n",
      "           0       0.83      0.90      0.87       105\n",
      "           1       0.85      0.74      0.79        74\n",
      "\n",
      "    accuracy                           0.84       179\n",
      "   macro avg       0.84      0.82      0.83       179\n",
      "weighted avg       0.84      0.84      0.84       179\n",
      "\n"
     ]
    }
   ],
   "source": [
    "cls_report = classification_report(y_test, y_pred)\n",
    "print(cls_report)"
   ]
  },
  {
   "cell_type": "code",
   "execution_count": 29,
   "id": "cc07e329",
   "metadata": {
    "execution": {
     "iopub.execute_input": "2025-08-27T05:10:33.230958Z",
     "iopub.status.busy": "2025-08-27T05:10:33.230653Z",
     "iopub.status.idle": "2025-08-27T05:10:34.035514Z",
     "shell.execute_reply": "2025-08-27T05:10:34.034524Z"
    },
    "papermill": {
     "duration": 0.815752,
     "end_time": "2025-08-27T05:10:34.037341",
     "exception": false,
     "start_time": "2025-08-27T05:10:33.221589",
     "status": "completed"
    },
    "tags": []
   },
   "outputs": [
    {
     "data": {
      "image/png": "[encoded data removed]",
      "text/plain": [
       "<Figure size 640x480 with 2 Axes>"
      ]
     },
     "metadata": {},
     "output_type": "display_data"
    }
   ],
   "source": [
    "import seaborn as sns\n",
    "import matplotlib.pyplot as plt\n",
    "sns.heatmap(matrix, annot = True, cmap = \"viridis\")\n",
    "plt.xlabel(\"Predicted Values\")\n",
    "plt.ylabel(\"Actual Values\")\n",
    "plt.show()"
   ]
  },
  {
   "cell_type": "code",
   "execution_count": 30,
   "id": "557bea2a",
   "metadata": {
    "execution": {
     "iopub.execute_input": "2025-08-27T05:10:34.057000Z",
     "iopub.status.busy": "2025-08-27T05:10:34.056405Z",
     "iopub.status.idle": "2025-08-27T05:10:34.067790Z",
     "shell.execute_reply": "2025-08-27T05:10:34.066692Z"
    },
    "papermill": {
     "duration": 0.023458,
     "end_time": "2025-08-27T05:10:34.069470",
     "exception": false,
     "start_time": "2025-08-27T05:10:34.046012",
     "status": "completed"
    },
    "tags": []
   },
   "outputs": [],
   "source": [
    "df_test= dataset[dataset[\"flag\"] == 1].drop(columns = [\"flag\"])"
   ]
  },
  {
   "cell_type": "code",
   "execution_count": 31,
   "id": "77f8e795",
   "metadata": {
    "execution": {
     "iopub.execute_input": "2025-08-27T05:10:34.088736Z",
     "iopub.status.busy": "2025-08-27T05:10:34.087486Z",
     "iopub.status.idle": "2025-08-27T05:10:34.104086Z",
     "shell.execute_reply": "2025-08-27T05:10:34.102970Z"
    },
    "papermill": {
     "duration": 0.027769,
     "end_time": "2025-08-27T05:10:34.105878",
     "exception": false,
     "start_time": "2025-08-27T05:10:34.078109",
     "status": "completed"
    },
    "tags": []
   },
   "outputs": [
    {
     "data": {
      "text/html": [
       "<div>\n",
       "<style scoped>\n",
       "    .dataframe tbody tr th:only-of-type {\n",
       "        vertical-align: middle;\n",
       "    }\n",
       "\n",
       "    .dataframe tbody tr th {\n",
       "        vertical-align: top;\n",
       "    }\n",
       "\n",
       "    .dataframe thead th {\n",
       "        text-align: right;\n",
       "    }\n",
       "</style>\n",
       "<table border=\"1\" class=\"dataframe\">\n",
       "  <thead>\n",
       "    <tr style=\"text-align: right;\">\n",
       "      <th></th>\n",
       "      <th>Pclass</th>\n",
       "      <th>Sex</th>\n",
       "      <th>Age</th>\n",
       "      <th>SibSp</th>\n",
       "      <th>Parch</th>\n",
       "      <th>Fare</th>\n",
       "      <th>Cabin</th>\n",
       "      <th>Embarked</th>\n",
       "    </tr>\n",
       "  </thead>\n",
       "  <tbody>\n",
       "    <tr>\n",
       "      <th>891</th>\n",
       "      <td>3</td>\n",
       "      <td>1</td>\n",
       "      <td>34.500000</td>\n",
       "      <td>0</td>\n",
       "      <td>0</td>\n",
       "      <td>7.8292</td>\n",
       "      <td>C23 C25 C27</td>\n",
       "      <td>Q</td>\n",
       "    </tr>\n",
       "    <tr>\n",
       "      <th>892</th>\n",
       "      <td>3</td>\n",
       "      <td>0</td>\n",
       "      <td>47.000000</td>\n",
       "      <td>1</td>\n",
       "      <td>0</td>\n",
       "      <td>7.0000</td>\n",
       "      <td>C23 C25 C27</td>\n",
       "      <td>S</td>\n",
       "    </tr>\n",
       "    <tr>\n",
       "      <th>893</th>\n",
       "      <td>2</td>\n",
       "      <td>1</td>\n",
       "      <td>62.000000</td>\n",
       "      <td>0</td>\n",
       "      <td>0</td>\n",
       "      <td>9.6875</td>\n",
       "      <td>C23 C25 C27</td>\n",
       "      <td>Q</td>\n",
       "    </tr>\n",
       "    <tr>\n",
       "      <th>894</th>\n",
       "      <td>3</td>\n",
       "      <td>1</td>\n",
       "      <td>27.000000</td>\n",
       "      <td>0</td>\n",
       "      <td>0</td>\n",
       "      <td>8.6625</td>\n",
       "      <td>C23 C25 C27</td>\n",
       "      <td>S</td>\n",
       "    </tr>\n",
       "    <tr>\n",
       "      <th>895</th>\n",
       "      <td>3</td>\n",
       "      <td>0</td>\n",
       "      <td>22.000000</td>\n",
       "      <td>1</td>\n",
       "      <td>1</td>\n",
       "      <td>12.2875</td>\n",
       "      <td>C23 C25 C27</td>\n",
       "      <td>S</td>\n",
       "    </tr>\n",
       "    <tr>\n",
       "      <th>...</th>\n",
       "      <td>...</td>\n",
       "      <td>...</td>\n",
       "      <td>...</td>\n",
       "      <td>...</td>\n",
       "      <td>...</td>\n",
       "      <td>...</td>\n",
       "      <td>...</td>\n",
       "      <td>...</td>\n",
       "    </tr>\n",
       "    <tr>\n",
       "      <th>1304</th>\n",
       "      <td>3</td>\n",
       "      <td>1</td>\n",
       "      <td>29.881138</td>\n",
       "      <td>0</td>\n",
       "      <td>0</td>\n",
       "      <td>8.0500</td>\n",
       "      <td>C23 C25 C27</td>\n",
       "      <td>S</td>\n",
       "    </tr>\n",
       "    <tr>\n",
       "      <th>1305</th>\n",
       "      <td>1</td>\n",
       "      <td>0</td>\n",
       "      <td>39.000000</td>\n",
       "      <td>0</td>\n",
       "      <td>0</td>\n",
       "      <td>108.9000</td>\n",
       "      <td>C105</td>\n",
       "      <td>C</td>\n",
       "    </tr>\n",
       "    <tr>\n",
       "      <th>1306</th>\n",
       "      <td>3</td>\n",
       "      <td>1</td>\n",
       "      <td>38.500000</td>\n",
       "      <td>0</td>\n",
       "      <td>0</td>\n",
       "      <td>7.2500</td>\n",
       "      <td>C23 C25 C27</td>\n",
       "      <td>S</td>\n",
       "    </tr>\n",
       "    <tr>\n",
       "      <th>1307</th>\n",
       "      <td>3</td>\n",
       "      <td>1</td>\n",
       "      <td>29.881138</td>\n",
       "      <td>0</td>\n",
       "      <td>0</td>\n",
       "      <td>8.0500</td>\n",
       "      <td>C23 C25 C27</td>\n",
       "      <td>S</td>\n",
       "    </tr>\n",
       "    <tr>\n",
       "      <th>1308</th>\n",
       "      <td>3</td>\n",
       "      <td>1</td>\n",
       "      <td>29.881138</td>\n",
       "      <td>1</td>\n",
       "      <td>1</td>\n",
       "      <td>22.3583</td>\n",
       "      <td>C23 C25 C27</td>\n",
       "      <td>C</td>\n",
       "    </tr>\n",
       "  </tbody>\n",
       "</table>\n",
       "<p>418 rows × 8 columns</p>\n",
       "</div>"
      ],
      "text/plain": [
       "      Pclass  Sex        Age  SibSp  Parch      Fare        Cabin Embarked\n",
       "891        3    1  34.500000      0      0    7.8292  C23 C25 C27        Q\n",
       "892        3    0  47.000000      1      0    7.0000  C23 C25 C27        S\n",
       "893        2    1  62.000000      0      0    9.6875  C23 C25 C27        Q\n",
       "894        3    1  27.000000      0      0    8.6625  C23 C25 C27        S\n",
       "895        3    0  22.000000      1      1   12.2875  C23 C25 C27        S\n",
       "...      ...  ...        ...    ...    ...       ...          ...      ...\n",
       "1304       3    1  29.881138      0      0    8.0500  C23 C25 C27        S\n",
       "1305       1    0  39.000000      0      0  108.9000         C105        C\n",
       "1306       3    1  38.500000      0      0    7.2500  C23 C25 C27        S\n",
       "1307       3    1  29.881138      0      0    8.0500  C23 C25 C27        S\n",
       "1308       3    1  29.881138      1      1   22.3583  C23 C25 C27        C\n",
       "\n",
       "[418 rows x 8 columns]"
      ]
     },
     "execution_count": 31,
     "metadata": {},
     "output_type": "execute_result"
    }
   ],
   "source": [
    "df_test"
   ]
  },
  {
   "cell_type": "code",
   "execution_count": 32,
   "id": "6f1e601a",
   "metadata": {
    "execution": {
     "iopub.execute_input": "2025-08-27T05:10:34.127077Z",
     "iopub.status.busy": "2025-08-27T05:10:34.125515Z",
     "iopub.status.idle": "2025-08-27T05:10:34.139172Z",
     "shell.execute_reply": "2025-08-27T05:10:34.138112Z"
    },
    "papermill": {
     "duration": 0.025597,
     "end_time": "2025-08-27T05:10:34.140911",
     "exception": false,
     "start_time": "2025-08-27T05:10:34.115314",
     "status": "completed"
    },
    "tags": []
   },
   "outputs": [],
   "source": [
    "df_test = encoder.transform(df_test)"
   ]
  },
  {
   "cell_type": "code",
   "execution_count": 33,
   "id": "d4318c39",
   "metadata": {
    "execution": {
     "iopub.execute_input": "2025-08-27T05:10:34.161862Z",
     "iopub.status.busy": "2025-08-27T05:10:34.161138Z",
     "iopub.status.idle": "2025-08-27T05:10:34.168935Z",
     "shell.execute_reply": "2025-08-27T05:10:34.167710Z"
    },
    "papermill": {
     "duration": 0.020669,
     "end_time": "2025-08-27T05:10:34.171042",
     "exception": false,
     "start_time": "2025-08-27T05:10:34.150373",
     "status": "completed"
    },
    "tags": []
   },
   "outputs": [],
   "source": [
    "df_test = scaler.transform(df_test)"
   ]
  },
  {
   "cell_type": "code",
   "execution_count": 34,
   "id": "d4901591",
   "metadata": {
    "execution": {
     "iopub.execute_input": "2025-08-27T05:10:34.190520Z",
     "iopub.status.busy": "2025-08-27T05:10:34.190204Z",
     "iopub.status.idle": "2025-08-27T05:10:34.197529Z",
     "shell.execute_reply": "2025-08-27T05:10:34.196557Z"
    },
    "papermill": {
     "duration": 0.019429,
     "end_time": "2025-08-27T05:10:34.199317",
     "exception": false,
     "start_time": "2025-08-27T05:10:34.179888",
     "status": "completed"
    },
    "tags": []
   },
   "outputs": [],
   "source": [
    "y_sub_pred= model.predict(df_test)"
   ]
  },
  {
   "cell_type": "code",
   "execution_count": 35,
   "id": "dbcbf4de",
   "metadata": {
    "execution": {
     "iopub.execute_input": "2025-08-27T05:10:34.220777Z",
     "iopub.status.busy": "2025-08-27T05:10:34.220435Z",
     "iopub.status.idle": "2025-08-27T05:10:34.227658Z",
     "shell.execute_reply": "2025-08-27T05:10:34.226600Z"
    },
    "papermill": {
     "duration": 0.020214,
     "end_time": "2025-08-27T05:10:34.229390",
     "exception": false,
     "start_time": "2025-08-27T05:10:34.209176",
     "status": "completed"
    },
    "tags": []
   },
   "outputs": [
    {
     "data": {
      "text/plain": [
       "array([0, 1, 0, 0, 1, 0, 1, 0, 1, 0, 0, 0, 1, 0, 1, 1, 0, 0, 1, 1, 0, 0,\n",
       "       1, 0, 1, 0, 1, 0, 0, 0, 0, 0, 0, 0, 0, 0, 1, 1, 0, 0, 0, 0, 0, 1,\n",
       "       1, 0, 0, 0, 1, 0, 0, 0, 1, 1, 0, 0, 0, 0, 0, 1, 0, 0, 0, 1, 1, 1,\n",
       "       1, 0, 0, 1, 1, 0, 1, 0, 1, 0, 0, 1, 0, 1, 0, 0, 0, 0, 0, 0, 1, 1,\n",
       "       1, 0, 1, 0, 1, 0, 0, 0, 1, 0, 1, 0, 1, 0, 0, 0, 1, 0, 0, 0, 0, 0,\n",
       "       0, 1, 1, 1, 1, 0, 0, 1, 0, 1, 1, 0, 1, 0, 0, 1, 0, 1, 0, 0, 0, 0,\n",
       "       0, 0, 0, 0, 0, 0, 1, 0, 0, 1, 1, 0, 0, 0, 0, 0, 0, 0, 1, 0, 0, 0,\n",
       "       0, 0, 1, 1, 0, 0, 1, 0, 1, 0, 0, 1, 0, 0, 1, 1, 0, 0, 0, 0, 0, 1,\n",
       "       1, 0, 1, 1, 0, 0, 1, 0, 1, 0, 1, 0, 0, 0, 0, 0, 0, 0, 0, 0, 1, 1,\n",
       "       0, 1, 1, 0, 1, 1, 0, 0, 1, 0, 1, 0, 0, 0, 0, 1, 0, 0, 1, 0, 1, 0,\n",
       "       1, 0, 1, 0, 1, 1, 0, 1, 0, 0, 0, 1, 0, 0, 1, 0, 1, 0, 1, 1, 1, 1,\n",
       "       1, 0, 0, 1, 1, 0, 1, 1, 1, 0, 0, 0, 0, 0, 0, 0, 1, 0, 0, 0, 1, 1,\n",
       "       0, 0, 0, 0, 1, 0, 0, 0, 1, 1, 0, 1, 0, 0, 0, 0, 1, 0, 1, 1, 1, 0,\n",
       "       0, 0, 0, 0, 0, 1, 0, 1, 0, 0, 1, 0, 0, 0, 0, 0, 0, 0, 1, 1, 0, 0,\n",
       "       0, 1, 0, 0, 0, 1, 1, 1, 0, 0, 0, 0, 0, 0, 1, 0, 1, 0, 1, 0, 0, 0,\n",
       "       1, 0, 0, 1, 0, 1, 0, 0, 0, 0, 0, 0, 0, 1, 0, 1, 0, 1, 0, 1, 1, 0,\n",
       "       0, 0, 0, 0, 1, 0, 0, 1, 0, 1, 1, 0, 1, 0, 0, 1, 1, 0, 0, 1, 0, 0,\n",
       "       1, 1, 1, 0, 0, 0, 0, 0, 1, 1, 0, 1, 0, 0, 0, 0, 0, 1, 0, 0, 0, 1,\n",
       "       0, 1, 0, 0, 1, 0, 1, 0, 0, 0, 0, 0, 1, 1, 1, 1, 1, 0, 1, 0, 0, 0])"
      ]
     },
     "execution_count": 35,
     "metadata": {},
     "output_type": "execute_result"
    }
   ],
   "source": [
    "y_sub_pred"
   ]
  },
  {
   "cell_type": "code",
   "execution_count": 36,
   "id": "4365ba63",
   "metadata": {
    "execution": {
     "iopub.execute_input": "2025-08-27T05:10:34.248324Z",
     "iopub.status.busy": "2025-08-27T05:10:34.248028Z",
     "iopub.status.idle": "2025-08-27T05:10:34.257617Z",
     "shell.execute_reply": "2025-08-27T05:10:34.256763Z"
    },
    "papermill": {
     "duration": 0.020883,
     "end_time": "2025-08-27T05:10:34.259218",
     "exception": false,
     "start_time": "2025-08-27T05:10:34.238335",
     "status": "completed"
    },
    "tags": []
   },
   "outputs": [
    {
     "data": {
      "text/html": [
       "<div>\n",
       "<style scoped>\n",
       "    .dataframe tbody tr th:only-of-type {\n",
       "        vertical-align: middle;\n",
       "    }\n",
       "\n",
       "    .dataframe tbody tr th {\n",
       "        vertical-align: top;\n",
       "    }\n",
       "\n",
       "    .dataframe thead th {\n",
       "        text-align: right;\n",
       "    }\n",
       "</style>\n",
       "<table border=\"1\" class=\"dataframe\">\n",
       "  <thead>\n",
       "    <tr style=\"text-align: right;\">\n",
       "      <th></th>\n",
       "      <th>PassengerId</th>\n",
       "      <th>Survived</th>\n",
       "    </tr>\n",
       "  </thead>\n",
       "  <tbody>\n",
       "    <tr>\n",
       "      <th>0</th>\n",
       "      <td>892</td>\n",
       "      <td>0</td>\n",
       "    </tr>\n",
       "    <tr>\n",
       "      <th>1</th>\n",
       "      <td>893</td>\n",
       "      <td>1</td>\n",
       "    </tr>\n",
       "    <tr>\n",
       "      <th>2</th>\n",
       "      <td>894</td>\n",
       "      <td>0</td>\n",
       "    </tr>\n",
       "    <tr>\n",
       "      <th>3</th>\n",
       "      <td>895</td>\n",
       "      <td>0</td>\n",
       "    </tr>\n",
       "    <tr>\n",
       "      <th>4</th>\n",
       "      <td>896</td>\n",
       "      <td>1</td>\n",
       "    </tr>\n",
       "    <tr>\n",
       "      <th>...</th>\n",
       "      <td>...</td>\n",
       "      <td>...</td>\n",
       "    </tr>\n",
       "    <tr>\n",
       "      <th>413</th>\n",
       "      <td>1305</td>\n",
       "      <td>0</td>\n",
       "    </tr>\n",
       "    <tr>\n",
       "      <th>414</th>\n",
       "      <td>1306</td>\n",
       "      <td>1</td>\n",
       "    </tr>\n",
       "    <tr>\n",
       "      <th>415</th>\n",
       "      <td>1307</td>\n",
       "      <td>0</td>\n",
       "    </tr>\n",
       "    <tr>\n",
       "      <th>416</th>\n",
       "      <td>1308</td>\n",
       "      <td>0</td>\n",
       "    </tr>\n",
       "    <tr>\n",
       "      <th>417</th>\n",
       "      <td>1309</td>\n",
       "      <td>0</td>\n",
       "    </tr>\n",
       "  </tbody>\n",
       "</table>\n",
       "<p>418 rows × 2 columns</p>\n",
       "</div>"
      ],
      "text/plain": [
       "     PassengerId  Survived\n",
       "0            892         0\n",
       "1            893         1\n",
       "2            894         0\n",
       "3            895         0\n",
       "4            896         1\n",
       "..           ...       ...\n",
       "413         1305         0\n",
       "414         1306         1\n",
       "415         1307         0\n",
       "416         1308         0\n",
       "417         1309         0\n",
       "\n",
       "[418 rows x 2 columns]"
      ]
     },
     "execution_count": 36,
     "metadata": {},
     "output_type": "execute_result"
    }
   ],
   "source": [
    "df_sb"
   ]
  },
  {
   "cell_type": "code",
   "execution_count": 37,
   "id": "53ad3038",
   "metadata": {
    "execution": {
     "iopub.execute_input": "2025-08-27T05:10:34.279072Z",
     "iopub.status.busy": "2025-08-27T05:10:34.278482Z",
     "iopub.status.idle": "2025-08-27T05:10:34.285066Z",
     "shell.execute_reply": "2025-08-27T05:10:34.283858Z"
    },
    "papermill": {
     "duration": 0.018321,
     "end_time": "2025-08-27T05:10:34.286738",
     "exception": false,
     "start_time": "2025-08-27T05:10:34.268417",
     "status": "completed"
    },
    "tags": []
   },
   "outputs": [],
   "source": [
    "submit = pd.DataFrame(\n",
    "    {\n",
    "        \"PassengerId\" : df_sb[\"PassengerId\"],\n",
    "        \"Survived\" : y_sub_pred\n",
    "    }\n",
    ")"
   ]
  },
  {
   "cell_type": "code",
   "execution_count": 38,
   "id": "c46473b8",
   "metadata": {
    "execution": {
     "iopub.execute_input": "2025-08-27T05:10:34.309160Z",
     "iopub.status.busy": "2025-08-27T05:10:34.308800Z",
     "iopub.status.idle": "2025-08-27T05:10:34.320484Z",
     "shell.execute_reply": "2025-08-27T05:10:34.319690Z"
    },
    "papermill": {
     "duration": 0.025335,
     "end_time": "2025-08-27T05:10:34.322383",
     "exception": false,
     "start_time": "2025-08-27T05:10:34.297048",
     "status": "completed"
    },
    "tags": []
   },
   "outputs": [],
   "source": [
    "submit.to_csv(\"submission1.csv\", index = False)"
   ]
  },
  {
   "cell_type": "code",
   "execution_count": 39,
   "id": "0ce438ba",
   "metadata": {
    "execution": {
     "iopub.execute_input": "2025-08-27T05:10:34.345806Z",
     "iopub.status.busy": "2025-08-27T05:10:34.344489Z",
     "iopub.status.idle": "2025-08-27T05:10:34.355016Z",
     "shell.execute_reply": "2025-08-27T05:10:34.353871Z"
    },
    "papermill": {
     "duration": 0.022755,
     "end_time": "2025-08-27T05:10:34.356592",
     "exception": false,
     "start_time": "2025-08-27T05:10:34.333837",
     "status": "completed"
    },
    "tags": []
   },
   "outputs": [
    {
     "data": {
      "text/html": [
       "<div>\n",
       "<style scoped>\n",
       "    .dataframe tbody tr th:only-of-type {\n",
       "        vertical-align: middle;\n",
       "    }\n",
       "\n",
       "    .dataframe tbody tr th {\n",
       "        vertical-align: top;\n",
       "    }\n",
       "\n",
       "    .dataframe thead th {\n",
       "        text-align: right;\n",
       "    }\n",
       "</style>\n",
       "<table border=\"1\" class=\"dataframe\">\n",
       "  <thead>\n",
       "    <tr style=\"text-align: right;\">\n",
       "      <th></th>\n",
       "      <th>PassengerId</th>\n",
       "      <th>Survived</th>\n",
       "    </tr>\n",
       "  </thead>\n",
       "  <tbody>\n",
       "    <tr>\n",
       "      <th>0</th>\n",
       "      <td>892</td>\n",
       "      <td>0</td>\n",
       "    </tr>\n",
       "    <tr>\n",
       "      <th>1</th>\n",
       "      <td>893</td>\n",
       "      <td>1</td>\n",
       "    </tr>\n",
       "    <tr>\n",
       "      <th>2</th>\n",
       "      <td>894</td>\n",
       "      <td>0</td>\n",
       "    </tr>\n",
       "    <tr>\n",
       "      <th>3</th>\n",
       "      <td>895</td>\n",
       "      <td>0</td>\n",
       "    </tr>\n",
       "    <tr>\n",
       "      <th>4</th>\n",
       "      <td>896</td>\n",
       "      <td>1</td>\n",
       "    </tr>\n",
       "    <tr>\n",
       "      <th>...</th>\n",
       "      <td>...</td>\n",
       "      <td>...</td>\n",
       "    </tr>\n",
       "    <tr>\n",
       "      <th>413</th>\n",
       "      <td>1305</td>\n",
       "      <td>0</td>\n",
       "    </tr>\n",
       "    <tr>\n",
       "      <th>414</th>\n",
       "      <td>1306</td>\n",
       "      <td>1</td>\n",
       "    </tr>\n",
       "    <tr>\n",
       "      <th>415</th>\n",
       "      <td>1307</td>\n",
       "      <td>0</td>\n",
       "    </tr>\n",
       "    <tr>\n",
       "      <th>416</th>\n",
       "      <td>1308</td>\n",
       "      <td>0</td>\n",
       "    </tr>\n",
       "    <tr>\n",
       "      <th>417</th>\n",
       "      <td>1309</td>\n",
       "      <td>0</td>\n",
       "    </tr>\n",
       "  </tbody>\n",
       "</table>\n",
       "<p>418 rows × 2 columns</p>\n",
       "</div>"
      ],
      "text/plain": [
       "     PassengerId  Survived\n",
       "0            892         0\n",
       "1            893         1\n",
       "2            894         0\n",
       "3            895         0\n",
       "4            896         1\n",
       "..           ...       ...\n",
       "413         1305         0\n",
       "414         1306         1\n",
       "415         1307         0\n",
       "416         1308         0\n",
       "417         1309         0\n",
       "\n",
       "[418 rows x 2 columns]"
      ]
     },
     "execution_count": 39,
     "metadata": {},
     "output_type": "execute_result"
    }
   ],
   "source": [
    "submit"
   ]
  }
 ],
 "metadata": {
  "kaggle": {
   "accelerator": "none",
   "dataSources": [
    {
     "databundleVersionId": 26502,
     "sourceId": 3136,
     "sourceType": "competition"
    },
    {
     "datasetId": 3064,
     "sourceId": 5101,
     "sourceType": "datasetVersion"
    },
    {
     "datasetId": 826163,
     "sourceId": 2879186,
     "sourceType": "datasetVersion"
    }
   ],
   "dockerImageVersionId": 31089,
   "isGpuEnabled": false,
   "isInternetEnabled": true,
   "language": "python",
   "sourceType": "notebook"
  },
  "kernelspec": {
   "display_name": "Python 3",
   "language": "python",
   "name": "python3"
  },
  "language_info": {
   "codemirror_mode": {
    "name": "ipython",
    "version": 3
   },
   "file_extension": ".py",
   "mimetype": "text/x-python",
   "name": "python",
   "nbconvert_exporter": "python",
   "pygments_lexer": "ipython3",
   "version": "3.11.13"
  },
  "papermill": {
   "default_parameters": {},
   "duration": 14.159887,
   "end_time": "2025-08-27T05:10:35.188337",
   "environment_variables": {},
   "exception": null,
   "input_path": "__notebook__.ipynb",
   "output_path": "__notebook__.ipynb",
   "parameters": {},
   "start_time": "2025-08-27T05:10:21.028450",
   "version": "2.6.0"
  }
 },
 "nbformat": 4,
 "nbformat_minor": 5
}
